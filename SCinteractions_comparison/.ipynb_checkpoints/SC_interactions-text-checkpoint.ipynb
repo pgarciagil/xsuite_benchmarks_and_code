{
 "cells": [
  {
   "cell_type": "markdown",
   "id": "e9351988",
   "metadata": {},
   "source": [
    "# Space charge interactions - comparing pyHEADTAIL vs Xsuite\n",
    "\n",
    "A SC node (Space charge node) is a point on the lattice where the effects of self-pulsion between particles occurring in the distance between two nodes are calculated and applied. These nodes serve as a discrete representation of the continuous self-repulsion effect.\n",
    "\n",
    "This script compares the differences in the calculation of a space charge interactions node between the PyHEADTAIL and Xsuite library nodes. \n",
    "\n",
    "__Libraries web sites__\n",
    "\n",
    "- _Xsuite_ : https://github.com/xsuite \n",
    "- _pyHEADTAIL_ : https://github.com/PyCOMPLETE/PyHEADTAIL"
   ]
  },
  {
   "cell_type": "markdown",
   "id": "df40f82e",
   "metadata": {},
   "source": [
    "# 0. Imports and enviroment set-up"
   ]
  },
  {
   "cell_type": "code",
   "execution_count": 50,
   "id": "cb8f9d7d",
   "metadata": {},
   "outputs": [],
   "source": [
    "import sys\n",
    "gpu_device_id, qx, qy, e_seed = \"0\", 18.9, 18.88, 1 #sys.argv[1:]\n",
    "\n",
    "sys.path = [\n",
    "    \"/home/pablo/packages/PyHEADTAIL/\",\n",
    "    \"/home/pablo/packages/\", # for PyPIC\n",
    "] + sys.path\n",
    "\n",
    "import matplotlib.pyplot as plt\n",
    "%matplotlib inline\n",
    "\n",
    "import numpy as np\n",
    "import os\n",
    "import time\n",
    "from pathlib import Path\n",
    "\n",
    "from scipy.constants import e, m_p, c\n",
    "from scipy.constants import physical_constants\n",
    "\n",
    "from cpymad.madx import Madx\n",
    "\n",
    "import sixtracklib as stl\n",
    "import pysixtrack\n",
    "\n",
    "os.environ['CUDA_VISIBLE_DEVICES'] = gpu_device_id\n",
    "from pycuda.autoinit import context\n",
    "\n",
    "from PyHEADTAIL.general.element import Element\n",
    "from PyHEADTAIL.particles import generators\n",
    "from PyHEADTAIL.particles.generators import RFBucketMatcher\n",
    "from PyHEADTAIL.trackers.rf_bucket import RFBucket\n",
    "from PyHEADTAIL.particles.rfbucket_matching import ThermalDistribution\n",
    "from PyHEADTAIL.particles.slicing import UniformBinSlicer\n",
    "from PyHEADTAIL.spacecharge.pypic_factory import (\n",
    "    create_3dmesh_from_beam, create_mesh)\n",
    "from PyHEADTAIL.spacecharge.pypic_spacecharge import (\n",
    "    SpaceChargePIC, SpaceChargePIC_Adaptive25D)\n",
    "from PyHEADTAIL.monitors.monitors import BunchMonitor, ParticleMonitor\n",
    "from PyHEADTAIL.general.contextmanager import GPU\n",
    "##\n",
    "from PyPIC.GPU.poisson_solver.FFT_solver import (\n",
    "    GPUFFTPoissonSolver_2_5D, GPUFFTPoissonSolver)\n",
    "from PyPIC.GPU.pypic import PyPIC_GPU\n",
    "# not necessary but nice: memory pool sharing between PyHEADTAIL and PyPIC\n",
    "try:\n",
    "    from PyHEADTAIL.gpu.gpu_utils import memory_pool\n",
    "except:\n",
    "    memory_pool = None\n",
    "\n",
    "nmass = physical_constants[\n",
    "    'atomic mass constant energy equivalent in MeV'][0] * 1e-3"
   ]
  },
  {
   "cell_type": "markdown",
   "id": "8b6f9b57",
   "metadata": {},
   "source": [
    "## 0.1 Setting variables"
   ]
  },
  {
   "cell_type": "code",
   "execution_count": 51,
   "id": "5a925cac",
   "metadata": {},
   "outputs": [],
   "source": [
    "n_macroparticles = int(100) #1e6\n",
    "n_turns = 1\n",
    "use_SC_3D = True\n",
    "\n",
    "N_factor = 1.0 # times nominal intensity\n",
    "\n",
    "A = 238 # mass number\n",
    "Q = 28 # elementary charges per particle\n",
    "Ekin_per_nucleon = 0.2e9 # in eV\n",
    "\n",
    "epsx_rms_fin = 35e-6 / 4 # geometrical emittances\n",
    "epsy_rms_fin = 15e-6 / 4\n",
    "\n",
    "limit_n_rms_x = 2\n",
    "limit_n_rms_y = 2\n",
    "limit_n_rms_z = 4\n",
    "\n",
    "sig_z_rms = 58. / 4. * 0.3/0.33\n",
    "sig_dp_rms = 0.5e-3\n",
    "\n",
    "sig_z = sig_z_rms\n",
    "sig_dp = sig_dp_rms\n",
    "\n",
    "intensity = 0.625e11 * N_factor\n",
    "\n",
    "# fixed grid for space charge\n",
    "n_slices_sc = 64\n",
    "n_mesh_nodes = 128\n",
    "n_mesh_sigma = 12\n",
    "n_scnodes = 501\n",
    "\n",
    "\n",
    "\n",
    "# RF:\n",
    "n_cavities = 14\n",
    "lag_h10 = 0\n",
    "f_h10 = 1.5705898344588984e6\n",
    "v_h10 = 58.2e3\n",
    "\n",
    "nmass = physical_constants[\n",
    "    'atomic mass constant energy equivalent in MeV'][0] * 1e-3\n",
    "\n",
    "mass = A * nmass * 1e9 * e / c**2 # in kg\n",
    "charge = Q * e # in Coul\n",
    "\n",
    "Ekin = Ekin_per_nucleon * A\n",
    "p0c = np.sqrt(Ekin**2 + 2*Ekin*mass/e * c**2) # in eV\n",
    "\n",
    "Etot = np.sqrt(p0c**2 + (mass/e)**2 * c**4) * 1e-9 # in GeV\n",
    "p0 = p0c / c * e # in SI units\n",
    "gamma = np.sqrt(1 + (p0 / (mass * c))**2)\n",
    "beta = np.sqrt(1 - gamma**-2)\n",
    "\n",
    "\n",
    "epsx_gauss = epsx_rms_fin * 1.43\n",
    "epsy_gauss = epsy_rms_fin * 1.41\n",
    "epsn_x = epsx_gauss * beta * gamma\n",
    "epsn_y = epsy_gauss * beta * gamma\n",
    "\n",
    "\n",
    "#---------------------------------\n",
    "\n",
    "qx, qy, e_seed = 18.9, 18.88, 1 \n",
    "qx = float(qx) ; qy = float(qy) ; e_seed = int(e_seed)\n",
    "\n",
    "qqx, qqy = int(np.round((qx%1) * 1e4)), int(np.round((qy%1) * 1e4))\n",
    "\n",
    "outputpath=str('./')\n",
    "\n",
    "filename_error_table = (\n",
    "            outputpath +\n",
    "            \"/error_tables/errors_{qqx}_{qqy}_{eseed:d}\".format(\n",
    "                qqx=qqx, qqy=qqy, eseed=e_seed))\n",
    "\n",
    "madx = Madx()\n",
    "madx.options.echo = False\n",
    "madx.options.warn = False\n",
    "madx.options.info = False"
   ]
  },
  {
   "cell_type": "markdown",
   "id": "6ed157f1",
   "metadata": {},
   "source": [
    "# 1. Python beam for both codes\n",
    "\n",
    "## 1.2 Load madx info\n",
    "\n",
    "* For the beam definition we will load the necessary information from a madX file of the sis100. Later we will need some of this information to create the particle beam. "
   ]
  },
  {
   "cell_type": "code",
   "execution_count": 52,
   "id": "ec352445",
   "metadata": {},
   "outputs": [],
   "source": [
    "def setup_madx(madx, qx, qy, filename_error_table):\n",
    "        madx.call('./SIS100RING.seq')\n",
    "        k1nl_s52qd11_factor = 1.0\n",
    "        k1nl_s52qd12_factor = 1.0\n",
    "        seqname = 'sis100cold'\n",
    "\n",
    "        madx.command.beam(particle='ion', mass=A*nmass,\n",
    "                          charge=Q, energy=Etot)\n",
    "\n",
    "        assert madx.input('''\n",
    "            select, flag=seqedit, class=collimator;\n",
    "\n",
    "            seqedit, sequence={sn};\n",
    "                remove, element=selected;\n",
    "                flatten;\n",
    "            endedit;\n",
    "\n",
    "            select, flag=seqedit, class=marker;\n",
    "            seqedit, sequence={sn};\n",
    "                remove, element=selected;\n",
    "                install, element={sn}$START, s=0;\n",
    "                flatten;\n",
    "            endedit;\n",
    "        '''.format(sn=seqname))\n",
    "\n",
    "        madx.use(sequence=seqname)\n",
    "\n",
    "        assert madx.command.select(\n",
    "            flag='MAKETHIN',\n",
    "            class_='QUADRUPOLE',\n",
    "            slice_='9',\n",
    "        )\n",
    "\n",
    "        assert madx.command.select(\n",
    "            flag='MAKETHIN',\n",
    "            class_='SBEND',\n",
    "            slice_='9',\n",
    "        )\n",
    "\n",
    "        assert madx.command.makethin(\n",
    "            makedipedge=True,\n",
    "            style='teapot',\n",
    "            sequence=seqname,\n",
    "        )\n",
    "\n",
    "        madx.call('OpticsYEH_BeamParameters.str')\n",
    "\n",
    "        madx.use(sequence=seqname)\n",
    "\n",
    "        madx.input(f'''\n",
    "            kqd := -0.2798446835;\n",
    "            kqf := 0.2809756135;\n",
    "            kqd := -2.81308e-01;\n",
    "            kqf := 2.81990e-01;\n",
    "            K1NL_S00QD1D :=  kqd ;\n",
    "            K1NL_S00QD1F :=  kqf ;\n",
    "            K1NL_S00QD2F :=  kqf ;\n",
    "            K1NL_S52QD11 :=  {k1nl_s52qd11_factor}   *   kqd ;\n",
    "            K1NL_S52QD12 :=  {k1nl_s52qd11_factor}   *   kqf ;\n",
    "        ''')\n",
    "\n",
    "        # match normally using MAD-X\n",
    "        madx.input('''\n",
    "                match, sequence={sn};\n",
    "                global, sequence={sn}, q1={qx}, q2={qy};\n",
    "                vary, name=kqf, step=0.00001;\n",
    "                vary, name=kqd, step=0.00001;\n",
    "                lmdif, calls=500, tolerance=1.0e-10;\n",
    "                endmatch;\n",
    "        '''.format(qx=qx, qy=qy, sn=seqname)\n",
    "        )\n",
    "\n",
    "        twiss = madx.twiss()\n",
    "\n",
    "        madx.input('cavity_voltage = {}/{}'.format(\n",
    "            v_h10 * 1e-6, n_cavities))\n",
    "\n",
    "        twiss_dict = {\n",
    "            'x': twiss['x'][0],\n",
    "            'px': twiss['px'][0],\n",
    "            'y': twiss['y'][0],\n",
    "            'py': twiss['py'][0],\n",
    "            'betx': twiss['betx'][0],\n",
    "            'alfx': twiss['alfx'][0],\n",
    "            'bety': twiss['bety'][0],\n",
    "            'alfy': twiss['alfy'][0],\n",
    "            'dx': twiss['dx'][0],\n",
    "            'dpx': twiss['dpx'][0],\n",
    "            'dy': twiss['dy'][0],\n",
    "            'dpy': twiss['dpy'][0],\n",
    "            'length': twiss.summary.length,\n",
    "            'gammatr': twiss.summary.gammatr,\n",
    "        }\n",
    "\n",
    "        return twiss_dict, seqname\n"
   ]
  },
  {
   "cell_type": "code",
   "execution_count": 53,
   "id": "27662a94",
   "metadata": {},
   "outputs": [
    {
     "data": {
      "text/plain": [
       "{'x': 0.0,\n",
       " 'px': 0.0,\n",
       " 'y': 0.0,\n",
       " 'py': 0.0,\n",
       " 'betx': 16.376328277181642,\n",
       " 'alfx': 1.3627516046081076,\n",
       " 'bety': 5.8503924626864245,\n",
       " 'alfy': -0.1198699717986166,\n",
       " 'dx': -0.13564351229620286,\n",
       " 'dpx': 0.021021954143707954,\n",
       " 'dy': 0.0,\n",
       " 'dpy': 0.0,\n",
       " 'length': 1083.6,\n",
       " 'gammatr': 15.45136084}"
      ]
     },
     "execution_count": 53,
     "metadata": {},
     "output_type": "execute_result"
    }
   ],
   "source": [
    "twiss_dict, seqname = setup_madx(madx, qx, qy, filename_error_table)"
   ]
  },
  {
   "cell_type": "markdown",
   "id": "ed79f2fe",
   "metadata": {},
   "source": [
    "## 1.2 Crating the python beam"
   ]
  },
  {
   "cell_type": "code",
   "execution_count": 5,
   "id": "21278247",
   "metadata": {},
   "outputs": [],
   "source": [
    "def setup_pyheadtail_particles(twiss_table,npart=n_macroparticles):\n",
    "    # particle initialisation from pyheadtail\n",
    "\n",
    "    x_co = 0\n",
    "    xp_co = 0\n",
    "    y_co = 0\n",
    "    yp_co = 0\n",
    "\n",
    "    D_x_0 = twiss_table['dx'] * beta\n",
    "    D_y_0 = twiss_table['dy'] * beta\n",
    "\n",
    "    Dp_x_0 = twiss_table['dpx'] * beta\n",
    "    Dp_y_0 = twiss_table['dpy'] * beta\n",
    "\n",
    "    np.random.seed(0)\n",
    "\n",
    "    pyht_beam = generators.generate_Gaussian6DTwiss(\n",
    "        npart, intensity, charge, mass,\n",
    "        twiss_table['length'], gamma,\n",
    "        twiss_table['alfx'], twiss_table['alfy'],\n",
    "        twiss_table['betx'], twiss_table['bety'],\n",
    "        1, epsn_x, epsn_y, 1,\n",
    "        dispersion_x=None, #D_x_0 if D_x_0 else None,\n",
    "        dispersion_y=None, #D_y_0 if D_y_0 else None,\n",
    "        limit_n_rms_x=limit_n_rms_x**2,\n",
    "        limit_n_rms_y=limit_n_rms_y**2,\n",
    "        limit_n_rms_z=limit_n_rms_z**2,\n",
    "    )\n",
    "\n",
    "    if v_h10:\n",
    "        rfb = RFBucket(\n",
    "            twiss_table['length'], gamma, mass,\n",
    "            charge, [twiss_table['gammatr']**-2],\n",
    "            p_increment=0., harmonic_list=[10],\n",
    "            voltage_list=[v_h10],\n",
    "            phi_offset_list=[np.pi + lag_h10 * np.pi * 2])\n",
    "\n",
    "        rfb_matcher = RFBucketMatcher(\n",
    "            rfb, ThermalDistribution, sigma_z=sig_z_rms)\n",
    "        z, dp, _, _ = rfb_matcher.generate(npart)\n",
    "        pyht_beam.z, pyht_beam.dp = z, dp\n",
    "\n",
    "    # recentre on 0 to avoid dipolar motion:\n",
    "    pyht_beam.x -= pyht_beam.mean_x()\n",
    "    pyht_beam.xp -= pyht_beam.mean_xp()\n",
    "    pyht_beam.y -= pyht_beam.mean_y()\n",
    "    pyht_beam.yp -= pyht_beam.mean_yp()\n",
    "    pyht_beam.z -= pyht_beam.mean_z()\n",
    "    pyht_beam.dp -= pyht_beam.mean_dp()\n",
    "\n",
    "    # add dispersive contribution to coordinates:\n",
    "    pyht_beam.x += D_x_0 * pyht_beam.dp\n",
    "    pyht_beam.y += D_y_0 * pyht_beam.dp\n",
    "    # also need to add D'_{x,y} to momenta:\n",
    "    pyht_beam.xp += Dp_x_0 * pyht_beam.dp\n",
    "    pyht_beam.yp += Dp_y_0 * pyht_beam.dp\n",
    "\n",
    "    # PyHT generates around 0, closed orbit offset:\n",
    "    pyht_beam.x += x_co\n",
    "    pyht_beam.xp += xp_co\n",
    "    pyht_beam.y += y_co\n",
    "    pyht_beam.yp += yp_co\n",
    "\n",
    "    return pyht_beam"
   ]
  },
  {
   "cell_type": "markdown",
   "id": "1d10d9cb",
   "metadata": {},
   "source": [
    "* We will create several sets of identical particles for comparison. \n",
    "    - pyht_beam -> Will be tracked by PyHEADTAIL SC object.\n",
    "    -puht_beam_xsuit-> Will be tracked by Xsuite SC object.\n",
    "    - old_pyht_beam -> will be used to compare and identify the effect on the beam."
   ]
  },
  {
   "cell_type": "code",
   "execution_count": 6,
   "id": "75906754",
   "metadata": {},
   "outputs": [
    {
     "name": "stdout",
     "output_type": "stream",
     "text": [
      "*** Maximum RMS bunch length 17.07847795287602m.\n"
     ]
    },
    {
     "name": "stderr",
     "output_type": "stream",
     "text": [
      "/home/pablo/anaconda3/lib/python3.9/site-packages/scipy/integrate/quadpack.py:879: IntegrationWarning: The integral is probably divergent, or slowly convergent.\n",
      "  quad_r = quad(f, low, high, args=args, full_output=self.full_output,\n"
     ]
    },
    {
     "name": "stdout",
     "output_type": "stream",
     "text": [
      "... distance to target bunch length: -1.3050e+01\n",
      "... distance to target bunch length: 3.4252e+00\n",
      "... distance to target bunch length: 3.1310e+00\n",
      "... distance to target bunch length: 5.1490e-01\n",
      "... distance to target bunch length: -1.0060e+00\n",
      "... distance to target bunch length: 7.7201e-02\n",
      "... distance to target bunch length: -1.4386e-03\n",
      "... distance to target bunch length: 1.8571e-05\n",
      "... distance to target bunch length: -2.2262e-05\n",
      "--> Bunch length: 13.181836752490321\n",
      "--> Emittance: 1.3226111253526491\n",
      "*** Maximum RMS bunch length 17.07847795287602m.\n",
      "... distance to target bunch length: -1.3050e+01\n",
      "... distance to target bunch length: 3.4252e+00\n",
      "... distance to target bunch length: 3.1310e+00\n",
      "... distance to target bunch length: 5.1490e-01\n",
      "... distance to target bunch length: -1.0060e+00\n",
      "... distance to target bunch length: 7.7201e-02\n",
      "... distance to target bunch length: -1.4386e-03\n",
      "... distance to target bunch length: 1.8571e-05\n",
      "... distance to target bunch length: -2.2262e-05\n",
      "--> Bunch length: 13.181836752490321\n",
      "--> Emittance: 1.3226111253526491\n",
      "*** Maximum RMS bunch length 17.07847795287602m.\n",
      "... distance to target bunch length: -1.3050e+01\n",
      "... distance to target bunch length: 3.4252e+00\n",
      "... distance to target bunch length: 3.1310e+00\n",
      "... distance to target bunch length: 5.1490e-01\n",
      "... distance to target bunch length: -1.0060e+00\n",
      "... distance to target bunch length: 7.7201e-02\n",
      "... distance to target bunch length: -1.4386e-03\n",
      "... distance to target bunch length: 1.8571e-05\n",
      "... distance to target bunch length: -2.2262e-05\n",
      "--> Bunch length: 13.181836752490321\n",
      "--> Emittance: 1.3226111253526491\n"
     ]
    }
   ],
   "source": [
    "pyht_beam = setup_pyheadtail_particles(twiss_dict, n_macroparticles)\n",
    "pyht_beam_Xsuite = setup_pyheadtail_particles(twiss_dict, n_macroparticles)\n",
    "old_pyht_beam = setup_pyheadtail_particles(twiss_dict, n_macroparticles)"
   ]
  },
  {
   "cell_type": "markdown",
   "id": "91d736e5",
   "metadata": {},
   "source": [
    "# PyHEADTAIL SC interaction\n",
    "\n",
    "To apply the SC interaction effect in pyHEADTAIL it is necessary to externally define a mesh that will then be passed when creating the SpaceChargePIC object. In addition we have to externally define the type of solver to be used and define the PIC algorithm.\n",
    "\n",
    "Passing all this information we create a SpaceChargePIC object that has the tracking capability. That is, it has a function that applies the effect to the beam."
   ]
  },
  {
   "cell_type": "code",
   "execution_count": 7,
   "id": "a864f77b",
   "metadata": {},
   "outputs": [],
   "source": [
    "def rms_beam_size_geo(beta_optics, epsgeo, disp_optics, sigma_dp):\n",
    "    return np.sqrt(beta_optics * epsgeo + (disp_optics * sigma_dp)**2)\n",
    "\n",
    "sig_x = pyht_beam.sigma_x()\n",
    "sig_y = pyht_beam.sigma_y()\n",
    "\n",
    "slicer_sc = UniformBinSlicer(n_slices_sc, n_sigma_z=1.1 *limit_n_rms_z)\n",
    "slices = pyht_beam.get_slices(slicer_sc)\n",
    "\n",
    "n_mesh_sigma = n_mesh_sigma\n",
    "n_mesh_nodes = n_mesh_nodes\n",
    "mesh_origin = [-n_mesh_sigma * sig_x,-n_mesh_sigma * sig_y]\n",
    "mesh_distances = [2 * n_mesh_sigma * sig_x / n_mesh_nodes, 2 * n_mesh_sigma * sig_y / n_mesh_nodes]\n",
    "\n",
    "mesh_3d = create_mesh(mesh_origin, mesh_distances, [n_mesh_nodes]*2,slices=slices)\n",
    "\n",
    "if use_SC_3D:\n",
    "    poissonsolver = GPUFFTPoissonSolver(mesh_3d, context=context)\n",
    "else:\n",
    "    poissonsolver = GPUFFTPoissonSolver_2_5D(mesh_3d, context=context,save_memory=False)\n",
    "\n",
    "pypic_algorithm = PyPIC_GPU(mesh_3d, poissonsolver, context=context, memory_pool=memory_pool)\n",
    "\n",
    "sc_node = SpaceChargePIC(1.0, pypic_algorithm)\n",
    "\n",
    "bmon_fn = 'bunchmonitor_gpu' + gpu_device_id\n",
    "\n",
    "#partmon = ParticleMonitor(bmon_fn[:-len('_bmon')] + '_pmon',stride=pyht_beam.macroparticlenumber // n_stored_particles)"
   ]
  },
  {
   "cell_type": "markdown",
   "id": "68b875ba",
   "metadata": {},
   "source": [
    "Tracking with sc_node"
   ]
  },
  {
   "cell_type": "code",
   "execution_count": 8,
   "id": "bbd55c52",
   "metadata": {
    "scrolled": true
   },
   "outputs": [],
   "source": [
    "with GPU(pyht_beam):\n",
    "    sc_node.track(pyht_beam)"
   ]
  },
  {
   "cell_type": "markdown",
   "id": "53ac1145",
   "metadata": {},
   "source": [
    "Here we can see the variation on the linear momentum of the particles along the z axel"
   ]
  },
  {
   "cell_type": "code",
   "execution_count": 9,
   "id": "4a6eb21d",
   "metadata": {
    "scrolled": false
   },
   "outputs": [
    {
     "data": {
      "text/plain": [
       "Text(0.5, 0, 'z (m)')"
      ]
     },
     "execution_count": 9,
     "metadata": {},
     "output_type": "execute_result"
    },
    {
     "data": {
      "image/png": "[encoded data removed]",
      "text/plain": [
       "<Figure size 432x288 with 1 Axes>"
      ]
     },
     "metadata": {
      "needs_background": "light"
     },
     "output_type": "display_data"
    }
   ],
   "source": [
    "difx = old_pyht_beam.xp - pyht_beam.xp\n",
    "plt.scatter(pyht_beam.z, difx)\n",
    "plt.title(\"Difference in linear momentum in x along z\")\n",
    "plt.ylabel(\"py dif(Kg m/s)\")\n",
    "plt.xlabel(\"z (m)\")"
   ]
  },
  {
   "cell_type": "code",
   "execution_count": 10,
   "id": "59424166",
   "metadata": {},
   "outputs": [
    {
     "data": {
      "text/plain": [
       "Text(0.5, 0, 'z (m)')"
      ]
     },
     "execution_count": 10,
     "metadata": {},
     "output_type": "execute_result"
    },
    {
     "data": {
      "image/png": "[encoded data removed]",
      "text/plain": [
       "<Figure size 432x288 with 1 Axes>"
      ]
     },
     "metadata": {
      "needs_background": "light"
     },
     "output_type": "display_data"
    }
   ],
   "source": [
    "difx = old_pyht_beam.yp - pyht_beam.yp\n",
    "plt.scatter(pyht_beam.z, difx)\n",
    "plt.title(\"Difference in linear momentum in y along z\")\n",
    "plt.ylabel(\"px dif(Kg m/s)\")\n",
    "plt.xlabel(\"z (m)\")"
   ]
  },
  {
   "cell_type": "markdown",
   "id": "a3147193",
   "metadata": {},
   "source": [
    "* Little comprobation of the mesh shape"
   ]
  },
  {
   "cell_type": "code",
   "execution_count": 54,
   "id": "fbc06c43",
   "metadata": {},
   "outputs": [
    {
     "data": {
      "text/plain": [
       "(65, 128, 128)"
      ]
     },
     "execution_count": 54,
     "metadata": {},
     "output_type": "execute_result"
    }
   ],
   "source": [
    "class State(object):\n",
    "    pass\n",
    "state = State()\n",
    "\n",
    "with GPU(pyht_beam):\n",
    "    pypic_algorithm.pic_solve(pyht_beam.x, pyht_beam.y, pyht_beam.z_beamframe, state=state)\n",
    "state.phi.shape"
   ]
  },
  {
   "cell_type": "markdown",
   "id": "50180d38",
   "metadata": {},
   "source": [
    "# Xsuite SC interactions"
   ]
  },
  {
   "cell_type": "code",
   "execution_count": 13,
   "id": "a64534f1",
   "metadata": {},
   "outputs": [],
   "source": [
    "import xobjects as xo\n",
    "import xpart as xp\n",
    "import xtrack as xt\n",
    "import xfields as xf"
   ]
  },
  {
   "cell_type": "code",
   "execution_count": 14,
   "id": "7fe9fad2",
   "metadata": {},
   "outputs": [
    {
     "name": "stdout",
     "output_type": "stream",
     "text": [
      "<xobjects.context_pyopencl.ContextPyopencl object at 0x7f46d4a44a60>\n"
     ]
    }
   ],
   "source": [
    "xcontext = xo.ContextPyopencl('0.0')\n",
    "print(xcontext)"
   ]
  },
  {
   "cell_type": "markdown",
   "id": "0216de9c",
   "metadata": {},
   "source": [
    "###  Particle transfer to xsuit (necessary for tracking)\n",
    "In order to apply the xsuite functions we must import the particles into an Xparticles object.\n",
    "In additinon, the import into xtrack have to take into acount the wieght variable for a proper functioning of the SC object"
   ]
  },
  {
   "cell_type": "code",
   "execution_count": 15,
   "id": "3863bee5",
   "metadata": {},
   "outputs": [],
   "source": [
    "from xpart.pyheadtail_interface.pyhtxtparticles import PyHtXtParticles as Pht_XT\n",
    "\n",
    "def particles_to_xpart(pyht_beam):\n",
    "    CHARGE = pyht_beam.charge\n",
    "    particles=Pht_XT.from_pyheadtail(pyht_beam)\n",
    "    x=particles.x\n",
    "    py=particles.py\n",
    "    px=particles.px\n",
    "    y=particles.y\n",
    "    z=particles.z\n",
    "    delta=particles.dp\n",
    "\n",
    "    X_particles = xp.Particles(_context=xcontext,\n",
    "                               mass0= A*nmass*1e9,\n",
    "                               q0=CHARGE/e,\n",
    "                               p0c=p0c, #eV\n",
    "                               x=x,\n",
    "                               px=px,\n",
    "                               y=y,\n",
    "                               py=py,\n",
    "                               zeta=z,\n",
    "                               delta=delta,\n",
    "                               #beta0=pyht_beam.beta\n",
    "                               weight=pyht_beam.charge_per_mp / pyht_beam.charge,\n",
    "                              )\n",
    "    return(X_particles)"
   ]
  },
  {
   "cell_type": "code",
   "execution_count": 16,
   "id": "052f3359",
   "metadata": {},
   "outputs": [],
   "source": [
    "xparticles=particles_to_xpart(pyht_beam_Xsuite)\n",
    "old_xparticles=particles_to_xpart(old_pyht_beam)"
   ]
  },
  {
   "cell_type": "markdown",
   "id": "fb1708f3",
   "metadata": {},
   "source": [
    "### Create the PIC  SCinteraction object and tracking\n",
    "\n",
    "PyHEADTAIL places a node as a center point while Xfields places a cell in the middle. In a symmetric mesh for example PyHEADTAIL would place a node at (0, 0) while Xfields would center a cell. This generates a change in the mesh that could mean a small change in the results, especially in this testing phase where we are working with few particles to speed up the program. To remedy this we need to subtract the distance of a cell to the right in Xtrack to counteract this internal effect.\n",
    "\n",
    "Limits:"
   ]
  },
  {
   "cell_type": "code",
   "execution_count": 17,
   "id": "5cf8c64c",
   "metadata": {},
   "outputs": [
    {
     "name": "stdout",
     "output_type": "stream",
     "text": [
      "PyHEADTAIL limits\n",
      "-64.6398616265187 64.63986162651875 \n",
      "\n",
      "Corrected Xsuite limits\n",
      "-64.6398616265187 64.63986162651877\n"
     ]
    }
   ],
   "source": [
    "print('PyHEADTAIL limits')\n",
    "print(slices.z_cut_tail, slices.z_cut_head, '\\n')\n",
    "\n",
    "print('Corrected Xsuite limits')\n",
    "print(mesh_3d.z0 / pyht_beam.gamma, (mesh_3d.z0 + (mesh_3d.nz-1)*mesh_3d.dz) / pyht_beam.gamma)\n"
   ]
  },
  {
   "cell_type": "code",
   "execution_count": 18,
   "id": "cbe89d0f",
   "metadata": {},
   "outputs": [
    {
     "data": {
      "text/plain": [
       "[-64.6398616265187, 64.63986162651875]"
      ]
     },
     "execution_count": 18,
     "metadata": {},
     "output_type": "execute_result"
    }
   ],
   "source": [
    "z_lim_tup = [slices.z_cut_tail, slices.z_cut_head]\n",
    "z_lim_tup"
   ]
  },
  {
   "cell_type": "code",
   "execution_count": 19,
   "id": "c4bfa894",
   "metadata": {},
   "outputs": [],
   "source": [
    "\n",
    "x_lim = n_mesh_sigma*sig_x\n",
    "y_lim = n_mesh_sigma*sig_y\n",
    "z_lim_tup = [slices.z_cut_tail, slices.z_cut_head]\n",
    "#mesh_3d.z0 / pyht_beam.gamma, (mesh_3d.z0 + mesh_3d.nz*mesh_3d.dz) / pyht_beam.gamma\n",
    "\n",
    "delta_x = 2 * x_lim / n_mesh_nodes\n",
    "delta_y = 2 * y_lim / n_mesh_nodes\n",
    "delta_z = np.diff(z_lim_tup)[0] / n_slices_sc\n",
    "\n",
    "z_lim_tup[1] -= delta_z\n",
    "\n",
    "assert x_lim == -mesh_3d.x0\n",
    "assert y_lim == -mesh_3d.y0\n",
    "assert z_lim_tup[0] == mesh_3d.z0 / pyht_beam.gamma\n",
    "\n",
    "from xfields import SpaceCharge3D\n",
    "\n",
    "spcharge = SpaceCharge3D(\n",
    "        _context=xcontext,\n",
    "        length=1.0, update_on_track=True, apply_z_kick=False,\n",
    "        x_range=(-x_lim, x_lim - delta_x),\n",
    "        y_range=(-y_lim, y_lim - delta_y),\n",
    "        z_range=z_lim_tup,\n",
    "        nx=n_mesh_nodes, ny=n_mesh_nodes, nz=n_slices_sc,\n",
    "        solver='FFTSolver3D' if use_SC_3D else 'FFTSolver2p5D',\n",
    "        gamma0=old_pyht_beam.gamma)\n",
    "\n",
    "spcharge.track(xparticles)\n",
    "context.synchronize()"
   ]
  },
  {
   "cell_type": "code",
   "execution_count": 55,
   "id": "66cbd797",
   "metadata": {},
   "outputs": [
    {
     "name": "stdout",
     "output_type": "stream",
     "text": [
      "True\n",
      "True\n"
     ]
    }
   ],
   "source": [
    "print(spcharge.fieldmap.x_grid[0] == -x_lim)\n",
    "print(np.diff(spcharge.fieldmap.x_grid)[0] == spcharge.fieldmap.dx)"
   ]
  },
  {
   "cell_type": "markdown",
   "id": "9993c17f",
   "metadata": {},
   "source": [
    "## Comparison of the effect of SC interactions on the linear momentum of the particles."
   ]
  },
  {
   "cell_type": "markdown",
   "id": "1fe4efb8",
   "metadata": {},
   "source": [
    "- __Xsuite__"
   ]
  },
  {
   "cell_type": "code",
   "execution_count": 45,
   "id": "0a566728",
   "metadata": {
    "scrolled": true
   },
   "outputs": [
    {
     "data": {
      "text/plain": [
       "Text(0.5, 0, 'z (m)')"
      ]
     },
     "execution_count": 45,
     "metadata": {},
     "output_type": "execute_result"
    },
    {
     "data": {
      "image/png": "[encoded data removed]",
      "text/plain": [
       "<Figure size 432x288 with 1 Axes>"
      ]
     },
     "metadata": {
      "needs_background": "light"
     },
     "output_type": "display_data"
    }
   ],
   "source": [
    "dif = old_xparticles.px.get() - xparticles.px.get()\n",
    "plt.scatter(xparticles.zeta.get(), dif)\n",
    "plt.title(\"Difference in linear momentum in x along z\")\n",
    "plt.ylabel(\"px dif(Kg m/s)\")\n",
    "plt.xlabel(\"z (m)\")"
   ]
  },
  {
   "cell_type": "markdown",
   "id": "974ebe4c",
   "metadata": {},
   "source": [
    "* __PyHEADTAIL__"
   ]
  },
  {
   "cell_type": "code",
   "execution_count": 46,
   "id": "59aeee94",
   "metadata": {
    "scrolled": false
   },
   "outputs": [
    {
     "data": {
      "text/plain": [
       "Text(0.5, 0, 'z (m)')"
      ]
     },
     "execution_count": 46,
     "metadata": {},
     "output_type": "execute_result"
    },
    {
     "data": {
      "image/png": "[encoded data removed]",
      "text/plain": [
       "<Figure size 432x288 with 1 Axes>"
      ]
     },
     "metadata": {
      "needs_background": "light"
     },
     "output_type": "display_data"
    }
   ],
   "source": [
    "assert all(pyht_beam.id == old_pyht_beam.id)\n",
    "dif = old_pyht_beam.xp - pyht_beam.xp\n",
    "plt.scatter(pyht_beam.z, dif)\n",
    "plt.title(\"Difference in linear momentum in x along z\")\n",
    "plt.ylabel(\"px dif(Kg m/s)\")\n",
    "plt.xlabel(\"z (m)\")"
   ]
  },
  {
   "cell_type": "markdown",
   "id": "19ae6125",
   "metadata": {},
   "source": [
    "* __Final comparation__\n",
    "\n",
    "Comparing whether the applied effect is the same in both sc nodes"
   ]
  },
  {
   "cell_type": "code",
   "execution_count": 47,
   "id": "de588e45",
   "metadata": {},
   "outputs": [
    {
     "data": {
      "text/plain": [
       "array([1.00000001, 1.00000001, 1.00000001, 1.00000001, 1.00000001,\n",
       "       1.00000001, 1.00000001, 1.00000001, 1.00000001, 1.00000001,\n",
       "       1.00028542, 1.00000001, 1.00000001, 1.00000001, 1.00000001,\n",
       "       1.00000001, 0.99999998, 1.00000001, 1.00000001, 1.00000001,\n",
       "       1.00000001, 1.00000001, 1.00000001, 1.00000001, 1.00000001,\n",
       "       1.        , 1.00000001, 1.00000001, 1.00000001, 1.00000001,\n",
       "       1.00000001, 1.00000001, 1.00000001, 1.        , 1.00000001,\n",
       "       1.00000001, 1.00000001, 1.00000001, 1.00000001, 1.00000001,\n",
       "       1.00000001, 1.00000001, 1.00000001, 1.00000001, 1.00000001,\n",
       "       1.00000001, 1.00000001, 1.00000001, 1.00001664, 1.00000001,\n",
       "       1.00000001, 1.00000001, 1.00000001, 1.00000001, 1.00000001,\n",
       "       1.00000001, 1.00000001, 1.00000001, 1.00000001, 1.00000001,\n",
       "       1.00000001, 1.00000001, 1.00000001, 1.00000001, 1.00000001,\n",
       "       1.00000001, 1.00000001, 1.        , 1.00000001, 1.00000001,\n",
       "       1.00000001, 1.00000001, 1.00000001, 1.00000001, 1.00000001,\n",
       "       1.00000001, 0.99998837, 1.00000001, 1.00000001, 1.00000001,\n",
       "       1.00000001, 1.00000002, 0.99965824, 1.00000001, 1.00000001,\n",
       "       1.00000001, 1.00000001, 1.00000001, 1.00000001, 1.00000001,\n",
       "       1.00000001, 1.00000001, 1.00000001, 1.00000001, 1.00000001,\n",
       "       1.00000001, 1.00000001, 1.00000001, 1.00000001, 1.00000001])"
      ]
     },
     "execution_count": 47,
     "metadata": {},
     "output_type": "execute_result"
    }
   ],
   "source": [
    "(old_pyht_beam.xp - pyht_beam.xp) / (old_xparticles.px.get() - xparticles.px.get())"
   ]
  },
  {
   "cell_type": "markdown",
   "id": "f33d9f3a",
   "metadata": {},
   "source": [
    "There are small differences at some points but they are small enough to consider that both codes apply equivalent effects for the same group of particles under given conditions."
   ]
  },
  {
   "cell_type": "code",
   "execution_count": null,
   "id": "ad9484ee",
   "metadata": {},
   "outputs": [],
   "source": []
  }
 ],
 "metadata": {
  "kernelspec": {
   "display_name": "Python 3 (ipykernel)",
   "language": "python",
   "name": "python3"
  },
  "language_info": {
   "codemirror_mode": {
    "name": "ipython",
    "version": 3
   },
   "file_extension": ".py",
   "mimetype": "text/x-python",
   "name": "python",
   "nbconvert_exporter": "python",
   "pygments_lexer": "ipython3",
   "version": "3.9.12"
  }
 },
 "nbformat": 4,
 "nbformat_minor": 5
}
